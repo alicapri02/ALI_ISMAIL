{
  "nbformat": 4,
  "nbformat_minor": 0,
  "metadata": {
    "colab": {
      "name": "PIAIC python.ipynb",
      "provenance": [],
      "collapsed_sections": []
    },
    "kernelspec": {
      "name": "python3",
      "display_name": "Python 3"
    },
    "language_info": {
      "name": "python"
    }
  },
  "cells": [
    {
      "cell_type": "markdown",
      "source": [
        ""
      ],
      "metadata": {
        "id": "SWQZT_2z7c19"
      }
    },
    {
      "cell_type": "code",
      "source": [
        "print ( 2 + 2)"
      ],
      "metadata": {
        "colab": {
          "base_uri": "https://localhost:8080/"
        },
        "id": "fS7oAAp2qOMu",
        "outputId": "c308c1af-7981-4dab-8d06-e3c156ec8184"
      },
      "execution_count": null,
      "outputs": [
        {
          "output_type": "stream",
          "name": "stdout",
          "text": [
            "4\n"
          ]
        }
      ]
    },
    {
      "cell_type": "code",
      "source": [
        "# Operations 2 or 4\n",
        "# operand here number is \n",
        "# operator\n",
        "\n",
        "\n",
        "print (2 + 4) # addition\n",
        "print (5/2) # float\n",
        "print (5**2) # power\n",
        "print (5//2) # floor division\n",
        "print ( 5 % 2) # modulus or reminder\n",
        "\n"
      ],
      "metadata": {
        "colab": {
          "base_uri": "https://localhost:8080/"
        },
        "id": "M1JjI19ksji8",
        "outputId": "006bf7a4-393d-4423-cf71-7dd3f6b0f47c"
      },
      "execution_count": null,
      "outputs": [
        {
          "output_type": "stream",
          "name": "stdout",
          "text": [
            "6\n",
            "2.5\n",
            "25\n",
            "2\n",
            "1\n"
          ]
        }
      ]
    },
    {
      "cell_type": "code",
      "source": [
        "# Equal Operator ( assigned any value to variable (place holder) \n",
        "# VARIABLE NAME = VALUE\n",
        "SCHOOL = 'PIAIC'\n",
        "BATCH = '36/37 '\n",
        "TEACHER = 'MR.QASIM'\n",
        "TIMING = '9 AM TO 12 PM'\n",
        "\n",
        "\n",
        "print (SCHOOL)\n",
        "print (BATCH)\n",
        "print (TEACHER)\n",
        "print ( TIMING)"
      ],
      "metadata": {
        "colab": {
          "base_uri": "https://localhost:8080/"
        },
        "id": "_AvhgLYLuG9E",
        "outputId": "39dc90d2-5da1-4162-fb13-815ab33f6b97"
      },
      "execution_count": null,
      "outputs": [
        {
          "output_type": "stream",
          "name": "stdout",
          "text": [
            "PIAIC\n",
            "36/37 \n",
            "MR.QASIM\n",
            "9 AM TO 12 PM\n"
          ]
        }
      ]
    },
    {
      "cell_type": "code",
      "source": [
        "# use predefine functions\n",
        "# type()\n",
        "# id() \n",
        "# len()\n",
        "\n",
        "name = 'ALI ISMAIL'\n",
        "print (type(name)) # data type\n",
        "print (id(name)) # memory address\n",
        "print (len(name)) # length (count number of character)\n"
      ],
      "metadata": {
        "colab": {
          "base_uri": "https://localhost:8080/"
        },
        "id": "ouB76kVC0Q-v",
        "outputId": "a848ea2c-07c3-4258-b3a7-2aa536532377"
      },
      "execution_count": null,
      "outputs": [
        {
          "output_type": "stream",
          "name": "stdout",
          "text": [
            "<class 'str'>\n",
            "140138034873072\n",
            "10\n"
          ]
        }
      ]
    },
    {
      "cell_type": "code",
      "source": [
        "# deep copy and shallow copy \n",
        "# a = 5\n",
        "# b = 5\n",
        "\n",
        "a = 'Pakistan'\n",
        "b = 'Pakistan'\n",
        "\n",
        "print(id(a))\n",
        "print (id(b))\n"
      ],
      "metadata": {
        "id": "51Awwr3A3OVk"
      },
      "execution_count": null,
      "outputs": []
    },
    {
      "cell_type": "code",
      "source": [
        "# click means event , in fb , all page format is remain same of all only change is we call it value.\n",
        "# note 'print ' it is a pre defined function"
      ],
      "metadata": {
        "id": "V0RTdY57gZCe"
      },
      "execution_count": null,
      "outputs": []
    },
    {
      "cell_type": "code",
      "source": [
        "# How to assign string values in string\n",
        "\n",
        "name = 'Ali ismail'\n",
        "print (name , type(name))\n"
      ],
      "metadata": {
        "colab": {
          "base_uri": "https://localhost:8080/"
        },
        "id": "2IwkerIlcj_T",
        "outputId": "891043da-a218-4ecc-c1db-cbdf909574b0"
      },
      "execution_count": 1,
      "outputs": [
        {
          "output_type": "stream",
          "name": "stdout",
          "text": [
            "Ali ismail <class 'str'>\n"
          ]
        }
      ]
    },
    {
      "cell_type": "code",
      "source": [
        "name = \"Ali ismail\"\n",
        "print (name , type(name))"
      ],
      "metadata": {
        "colab": {
          "base_uri": "https://localhost:8080/"
        },
        "id": "7Y43JlB9d7FV",
        "outputId": "b13c3de6-9236-4a00-836a-f753bd8c309b"
      },
      "execution_count": 2,
      "outputs": [
        {
          "output_type": "stream",
          "name": "stdout",
          "text": [
            "Ali ismail <class 'str'>\n"
          ]
        }
      ]
    },
    {
      "cell_type": "code",
      "source": [
        "# we have to define space character\n",
        "data = 'Ali\\tIsmail\\nHussain'\n",
        "print(data)"
      ],
      "metadata": {
        "colab": {
          "base_uri": "https://localhost:8080/"
        },
        "id": "vZqr2Zm6eD1Z",
        "outputId": "8212ad68-2aa6-4c65-c6fc-e4d89136ecfb"
      },
      "execution_count": 6,
      "outputs": [
        {
          "output_type": "stream",
          "name": "stdout",
          "text": [
            "Ali\tIsmail\n",
            "Hussain\n"
          ]
        }
      ]
    },
    {
      "cell_type": "code",
      "source": [
        "# if use quote within strig  use back slash (\\) need practice \n",
        "data = 'ali' 'Ismail\\'sHussain'\n",
        "print(data) "
      ],
      "metadata": {
        "colab": {
          "base_uri": "https://localhost:8080/"
        },
        "id": "9v9I1wytfBx0",
        "outputId": "883b38a0-e0ea-43d8-a0f4-8a64dc893c1e"
      },
      "execution_count": 11,
      "outputs": [
        {
          "output_type": "stream",
          "name": "stdout",
          "text": [
            "aliIsmail'sHussain\n"
          ]
        }
      ]
    },
    {
      "cell_type": "code",
      "source": [
        "# multi line practice\n",
        "\n",
        "data  =  '''  \n",
        "             NAME              ALI\n",
        "             FATHER NAME      ISMAIL \n",
        "             BATCH             36\n",
        "             COURSE            AIC'''\n",
        "print (data)"
      ],
      "metadata": {
        "colab": {
          "base_uri": "https://localhost:8080/"
        },
        "id": "tYczfdySg3Y5",
        "outputId": "c76ddf89-a710-4d57-b13a-697c78d091ea"
      },
      "execution_count": 10,
      "outputs": [
        {
          "output_type": "stream",
          "name": "stdout",
          "text": [
            " \n",
            "             NAME              ALI\n",
            "             FATHER NAME      ISMAIL \n",
            "             BATCH             36\n",
            "             COURSE            AIC\n"
          ]
        }
      ]
    },
    {
      "cell_type": "code",
      "source": [
        "# Jupyter cell always shows last line , outout is only c , w/o print command\n",
        "'a'\n",
        "'b'\n",
        "'c'"
      ],
      "metadata": {
        "colab": {
          "base_uri": "https://localhost:8080/",
          "height": 35
        },
        "id": "1Ev7X3oRiHLO",
        "outputId": "7bd474a4-3031-4f7a-9514-d5feb047c95f"
      },
      "execution_count": 12,
      "outputs": [
        {
          "output_type": "execute_result",
          "data": {
            "text/plain": [
              "'c'"
            ],
            "application/vnd.google.colaboratory.intrinsic+json": {
              "type": "string"
            }
          },
          "metadata": {},
          "execution_count": 12
        }
      ]
    },
    {
      "cell_type": "code",
      "source": [
        "'a'\n",
        "'b'\n",
        "print('c') # Jupyter cell always shows last line , outout is only c , with print command"
      ],
      "metadata": {
        "colab": {
          "base_uri": "https://localhost:8080/"
        },
        "id": "8mttpbYljkA_",
        "outputId": "53e91831-701f-4bda-ca29-925f7b498b1d"
      },
      "execution_count": 13,
      "outputs": [
        {
          "output_type": "stream",
          "name": "stdout",
          "text": [
            "c\n"
          ]
        }
      ]
    },
    {
      "cell_type": "code",
      "source": [
        "# CONCATENATION (combining variables)\n",
        "\n",
        "name = 'ALI'\n",
        "father_name = 'Ismail Hussain'\n",
        "batch = 36\n",
        "course = 'AIC'\n",
        "print (name , father_name , batch , course)"
      ],
      "metadata": {
        "colab": {
          "base_uri": "https://localhost:8080/"
        },
        "id": "CF-Y6KtZj5uW",
        "outputId": "f519b751-5933-46e8-d329-701e3427f952"
      },
      "execution_count": 14,
      "outputs": [
        {
          "output_type": "stream",
          "name": "stdout",
          "text": [
            "ALI Ismail Hussain 36 AIC\n"
          ]
        }
      ]
    },
    {
      "cell_type": "code",
      "source": [
        "name = 'ALI' # for sep=\\n , use , then sep'\\n'\n",
        "father_name = 'Ismail Hussain'\n",
        "batch = 36\n",
        "course = 'AIC'\n",
        "print(name , father_name , batch , course, sep='\\n')"
      ],
      "metadata": {
        "colab": {
          "base_uri": "https://localhost:8080/"
        },
        "id": "xsAhgMtKlYXr",
        "outputId": "d2be321d-7c6c-4274-f055-451254c1ea2d"
      },
      "execution_count": 20,
      "outputs": [
        {
          "output_type": "stream",
          "name": "stdout",
          "text": [
            "ALI\n",
            "Ismail Hussain\n",
            "36\n",
            "AIC\n"
          ]
        }
      ]
    },
    {
      "cell_type": "code",
      "source": [
        "# Style 1 \n",
        "name = 'ALI' \n",
        "father_name = 'Ismail Hussain'\n",
        "batch = 36\n",
        "course = 'AIC'\n",
        "\n",
        "data =''' \n",
        "name = {} \n",
        "father_name = {}\n",
        "batch = {}\n",
        "course = {}\n",
        "'''.format(name , father_name , batch , course)\n",
        "print(data)"
      ],
      "metadata": {
        "colab": {
          "base_uri": "https://localhost:8080/"
        },
        "id": "ti70SOvWl0HY",
        "outputId": "a3130159-760b-4747-c0b2-290d95c39dc0"
      },
      "execution_count": 23,
      "outputs": [
        {
          "output_type": "stream",
          "name": "stdout",
          "text": [
            " \n",
            "name = ALI \n",
            "father_name = Ismail Hussain\n",
            "batch = 36\n",
            "course = AIC\n",
            "\n"
          ]
        }
      ]
    },
    {
      "cell_type": "code",
      "source": [
        "# Style 2 # tuple use\n",
        "\n",
        "name = 'ALI' \n",
        "father_name = 'Ismail Hussain'\n",
        "batch = 36\n",
        "course = 'AIC'\n",
        "\n",
        "data =''' \n",
        "name = {0} \n",
        "father_name = {1}\n",
        "batch = {2}\n",
        "course = {3}\n",
        "'''.format(name , father_name , batch , course)\n",
        "print(data)"
      ],
      "metadata": {
        "colab": {
          "base_uri": "https://localhost:8080/"
        },
        "id": "AOmWVBDTtEnQ",
        "outputId": "09c93bae-f5df-4d61-9c46-dc49f68f89b4"
      },
      "execution_count": 26,
      "outputs": [
        {
          "output_type": "stream",
          "name": "stdout",
          "text": [
            " \n",
            "name = ALI \n",
            "father_name = Ismail Hussain\n",
            "batch = 36\n",
            "course = AIC\n",
            "\n"
          ]
        }
      ]
    },
    {
      "cell_type": "code",
      "source": [
        "# Style # 3 most common usand user friendly\n",
        "\n",
        "name = 'ALI' \n",
        "father_name = 'Ismail Hussain'\n",
        "batch = 36\n",
        "course = 'AIC'\n",
        "\n",
        "data = f''' \n",
        "name = {name} \n",
        "father_name = {father_name}\n",
        "batch = {batch}\n",
        "course = {course}\n",
        "'''\n",
        "print(data)"
      ],
      "metadata": {
        "colab": {
          "base_uri": "https://localhost:8080/"
        },
        "id": "aUjhR7cMtmwO",
        "outputId": "b5df9080-8c72-43c6-eba2-7d26ed35d91e"
      },
      "execution_count": 29,
      "outputs": [
        {
          "output_type": "stream",
          "name": "stdout",
          "text": [
            " \n",
            "name = ALI \n",
            "father_name = Ismail Hussain\n",
            "batch = 36\n",
            "course = AIC\n",
            "\n"
          ]
        }
      ]
    },
    {
      "cell_type": "code",
      "source": [
        "abc = input(\"Enter any value: \") #always return text value\n",
        "print(abc)"
      ],
      "metadata": {
        "colab": {
          "base_uri": "https://localhost:8080/"
        },
        "id": "tc_4bqjkuLJQ",
        "outputId": "04f764de-493d-4433-c3bd-1ffcef0f59e4"
      },
      "execution_count": 30,
      "outputs": [
        {
          "output_type": "stream",
          "name": "stdout",
          "text": [
            "Enter any value: ali\n",
            "ali\n"
          ]
        }
      ]
    },
    {
      "cell_type": "code",
      "source": [
        "I"
      ],
      "metadata": {
        "id": "g2GKA49F1BlB"
      },
      "execution_count": null,
      "outputs": []
    },
    {
      "cell_type": "code",
      "source": [
        "name = input('Enter your Name :')\n",
        "father_name = input('Enter your father name:')\n",
        "batch = int(input('Enter yout Height:'))\n",
        "course = input('Enter Course Name')\n",
        "\n",
        "data = f''' \n",
        "name = {name} \n",
        "father_name = {father_name}\n",
        "batch = {batch}\n",
        "course = {course}\n",
        "'''\n",
        "print(data)\n"
      ],
      "metadata": {
        "colab": {
          "base_uri": "https://localhost:8080/"
        },
        "id": "Cuk23FnazEj8",
        "outputId": "26b2d23e-5b8d-4233-e82b-f3009df209ce"
      },
      "execution_count": 34,
      "outputs": [
        {
          "output_type": "stream",
          "name": "stdout",
          "text": [
            "Enter your Name :ALI ISMAIL\n",
            "Enter your father name:MUHAMAMD ISMAIL\n",
            "Enter yout Height:75\n",
            "Enter Course NameAIC\n",
            " \n",
            "name = ALI ISMAIL \n",
            "father_name = MUHAMAMD ISMAIL\n",
            "batch = 75\n",
            "course = AIC\n",
            "\n"
          ]
        }
      ]
    },
    {
      "cell_type": "code",
      "source": [
        "name = 'ALI' # capatalize\n",
        "name.capitalize()"
      ],
      "metadata": {
        "colab": {
          "base_uri": "https://localhost:8080/",
          "height": 35
        },
        "id": "1Y5xbpvX0XGf",
        "outputId": "7cf8e17c-2de5-4345-b778-44dfc05212d7"
      },
      "execution_count": 35,
      "outputs": [
        {
          "output_type": "execute_result",
          "data": {
            "text/plain": [
              "'Ali'"
            ],
            "application/vnd.google.colaboratory.intrinsic+json": {
              "type": "string"
            }
          },
          "metadata": {},
          "execution_count": 35
        }
      ]
    },
    {
      "cell_type": "code",
      "source": [
        "name = 'ALI Ismail' # to make all in small letter\n",
        "name.casefold()"
      ],
      "metadata": {
        "colab": {
          "base_uri": "https://localhost:8080/",
          "height": 35
        },
        "id": "dpzi8rIh1ZPv",
        "outputId": "64069d52-6d1c-4be6-d35d-075bdcbd495c"
      },
      "execution_count": 37,
      "outputs": [
        {
          "output_type": "execute_result",
          "data": {
            "text/plain": [
              "'ali ismail'"
            ],
            "application/vnd.google.colaboratory.intrinsic+json": {
              "type": "string"
            }
          },
          "metadata": {},
          "execution_count": 37
        }
      ]
    },
    {
      "cell_type": "code",
      "source": [
        "name = 'ALI Ismail' # to make single line center\n",
        "name.center(50)"
      ],
      "metadata": {
        "colab": {
          "base_uri": "https://localhost:8080/",
          "height": 35
        },
        "id": "xdwEXafo1vlW",
        "outputId": "52d044a4-ebf9-4e95-d492-3a3b217de1ce"
      },
      "execution_count": 38,
      "outputs": [
        {
          "output_type": "execute_result",
          "data": {
            "text/plain": [
              "'                    ALI Ismail                    '"
            ],
            "application/vnd.google.colaboratory.intrinsic+json": {
              "type": "string"
            }
          },
          "metadata": {},
          "execution_count": 38
        }
      ]
    },
    {
      "cell_type": "code",
      "source": [
        "name = 'ALI Ismail' # to make single line center\n",
        "name.center(20)"
      ],
      "metadata": {
        "colab": {
          "base_uri": "https://localhost:8080/",
          "height": 35
        },
        "id": "UcAij2T92Szd",
        "outputId": "b0004052-1edb-4524-c484-e86a86b9341c"
      },
      "execution_count": 39,
      "outputs": [
        {
          "output_type": "execute_result",
          "data": {
            "text/plain": [
              "'     ALI Ismail     '"
            ],
            "application/vnd.google.colaboratory.intrinsic+json": {
              "type": "string"
            }
          },
          "metadata": {},
          "execution_count": 39
        }
      ]
    },
    {
      "cell_type": "code",
      "source": [
        "name = 'ALI Ismail' # to make single line center , spacing increase , case become center\n",
        "name.center(100)"
      ],
      "metadata": {
        "colab": {
          "base_uri": "https://localhost:8080/",
          "height": 35
        },
        "id": "LoFF4QBB2WBB",
        "outputId": "238b33dc-4a49-4270-8c6a-0f383682895c"
      },
      "execution_count": 40,
      "outputs": [
        {
          "output_type": "execute_result",
          "data": {
            "text/plain": [
              "'                                             ALI Ismail                                             '"
            ],
            "application/vnd.google.colaboratory.intrinsic+json": {
              "type": "string"
            }
          },
          "metadata": {},
          "execution_count": 40
        }
      ]
    },
    {
      "cell_type": "code",
      "source": [
        "name = 'ali Ismail Hussain , working at pakistan international airlines'\n",
        "print(name.count('a'))\n"
      ],
      "metadata": {
        "colab": {
          "base_uri": "https://localhost:8080/"
        },
        "id": "TAQG2Ko92aST",
        "outputId": "a4c6a837-1a1c-4d02-84b2-a463305f7e6b"
      },
      "execution_count": 45,
      "outputs": [
        {
          "output_type": "stream",
          "name": "stdout",
          "text": [
            "9\n"
          ]
        }
      ]
    },
    {
      "cell_type": "code",
      "source": [
        "# UTF-8  ENCODE \n",
        "#UCS (Unicode) Transformation Format\n",
        "#UTF stands for \"UCS (Unicode) Transformation Format\". The UTF-8 encoding can be used to represent any Unicode character. Depending on a Unicode character's numeric value, the corresponding UTF-8 character is a 1, 2, or 3 byte sequence.\n",
        "\n",
        "\n",
        "name = 'ALI Ismail'\n",
        "name.encode('utf-8')"
      ],
      "metadata": {
        "colab": {
          "base_uri": "https://localhost:8080/"
        },
        "id": "TmdHX0hq3DPw",
        "outputId": "f11b342a-39b3-4f8c-e562-1630fd5c9e16"
      },
      "execution_count": 46,
      "outputs": [
        {
          "output_type": "execute_result",
          "data": {
            "text/plain": [
              "b'ALI Ismail'"
            ]
          },
          "metadata": {},
          "execution_count": 46
        }
      ]
    },
    {
      "cell_type": "code",
      "source": [
        "name = 'ALI Ismail'\n",
        "name.endswith('ail')"
      ],
      "metadata": {
        "colab": {
          "base_uri": "https://localhost:8080/"
        },
        "id": "Xj-TrQ-b4VYT",
        "outputId": "1d8284f9-4173-439f-d8c7-f001acee2c49"
      },
      "execution_count": 47,
      "outputs": [
        {
          "output_type": "execute_result",
          "data": {
            "text/plain": [
              "True"
            ]
          },
          "metadata": {},
          "execution_count": 47
        }
      ]
    },
    {
      "cell_type": "code",
      "source": [
        "name = 'Ali Ismail'\n",
        "name.startswith('Ali')"
      ],
      "metadata": {
        "colab": {
          "base_uri": "https://localhost:8080/"
        },
        "id": "s3hirBG_4nJV",
        "outputId": "aa8923ec-2470-4b7d-b3b6-c32a7c27de5c"
      },
      "execution_count": 51,
      "outputs": [
        {
          "output_type": "execute_result",
          "data": {
            "text/plain": [
              "True"
            ]
          },
          "metadata": {},
          "execution_count": 51
        }
      ]
    },
    {
      "cell_type": "code",
      "source": [
        "# expand tab  ?\n",
        "\n"
      ],
      "metadata": {
        "id": "PrSMRzO-4tw3"
      },
      "execution_count": null,
      "outputs": []
    },
    {
      "cell_type": "code",
      "source": [
        "name = 'Ali Ismail Hussain'\n",
        "print(name.find('ma'))"
      ],
      "metadata": {
        "colab": {
          "base_uri": "https://localhost:8080/"
        },
        "id": "VDq5bYl-53BZ",
        "outputId": "903b0bbf-bd04-42f6-c0a6-b38f3b7d8c8d"
      },
      "execution_count": 52,
      "outputs": [
        {
          "output_type": "stream",
          "name": "stdout",
          "text": [
            "6\n"
          ]
        }
      ]
    },
    {
      "cell_type": "code",
      "source": [
        "name = 'Ali Ismail Hussain'\n",
        "print(name.find('hu')) # it measn this value not found"
      ],
      "metadata": {
        "colab": {
          "base_uri": "https://localhost:8080/"
        },
        "id": "bR-FFP4A6V1e",
        "outputId": "d8ef688c-d76b-4b87-ac4f-3bb04fa7fd84"
      },
      "execution_count": 53,
      "outputs": [
        {
          "output_type": "stream",
          "name": "stdout",
          "text": [
            "-1\n"
          ]
        }
      ]
    },
    {
      "cell_type": "code",
      "source": [
        "name = 'Ali Ismail Hussain'\n",
        "print(name.find('Hu'))"
      ],
      "metadata": {
        "colab": {
          "base_uri": "https://localhost:8080/"
        },
        "id": "kVVKKH_d6aJR",
        "outputId": "5bf53b9f-8851-43e2-82e7-c37a89f792c1"
      },
      "execution_count": 54,
      "outputs": [
        {
          "output_type": "stream",
          "name": "stdout",
          "text": [
            "11\n"
          ]
        }
      ]
    },
    {
      "cell_type": "code",
      "source": [
        "name = 'Ali Ismail Hussain'\n",
        "print(name.find('a'))\n",
        "print(name.find('a', 8)) # this represt now find after 7 , just like Next function\n"
      ],
      "metadata": {
        "colab": {
          "base_uri": "https://localhost:8080/"
        },
        "id": "e2WUPjz16fx5",
        "outputId": "455966d7-d447-4d72-c5eb-38a820de19db"
      },
      "execution_count": 57,
      "outputs": [
        {
          "output_type": "stream",
          "name": "stdout",
          "text": [
            "7\n",
            "15\n"
          ]
        }
      ]
    },
    {
      "cell_type": "code",
      "source": [
        "name = 'Pakistan Zindabad'\n",
        "print(name.find('a'))"
      ],
      "metadata": {
        "colab": {
          "base_uri": "https://localhost:8080/"
        },
        "id": "YhnCJfYk7UU7",
        "outputId": "b7c32978-20ba-4e51-b9f2-f15fbdd77ddf"
      },
      "execution_count": 58,
      "outputs": [
        {
          "output_type": "stream",
          "name": "stdout",
          "text": [
            "1\n"
          ]
        }
      ]
    },
    {
      "cell_type": "code",
      "source": [
        "#format map resemble fetching values from dictionery and replacing"
      ],
      "metadata": {
        "id": "zR50EqMG8Bvi"
      },
      "execution_count": null,
      "outputs": []
    },
    {
      "cell_type": "code",
      "source": [
        "name = 'Pakistan Zindabad'\n",
        "name.index('Z')"
      ],
      "metadata": {
        "colab": {
          "base_uri": "https://localhost:8080/"
        },
        "id": "QArz-UFz-D-Q",
        "outputId": "ed20ddf4-0b36-43bf-9304-abb2f0372552"
      },
      "execution_count": 60,
      "outputs": [
        {
          "output_type": "execute_result",
          "data": {
            "text/plain": [
              "9"
            ]
          },
          "metadata": {},
          "execution_count": 60
        }
      ]
    },
    {
      "cell_type": "code",
      "source": [
        "#Alphanumeric function\n",
        "name = 'alicapri02'\n",
        "name.isalnum()"
      ],
      "metadata": {
        "colab": {
          "base_uri": "https://localhost:8080/"
        },
        "id": "EPyJwVpB-KLh",
        "outputId": "e51211b3-76fe-4a59-d42c-b1d7d54990fc"
      },
      "execution_count": 61,
      "outputs": [
        {
          "output_type": "execute_result",
          "data": {
            "text/plain": [
              "True"
            ]
          },
          "metadata": {},
          "execution_count": 61
        }
      ]
    },
    {
      "cell_type": "code",
      "source": [
        "name = 'alicapri02' #b/c it is alpha numneric\n",
        "name.isalpha()"
      ],
      "metadata": {
        "colab": {
          "base_uri": "https://localhost:8080/"
        },
        "id": "Q1kUQxkZ-iW3",
        "outputId": "b52b516f-2529-4511-da1d-1b948ed5746d"
      },
      "execution_count": 62,
      "outputs": [
        {
          "output_type": "execute_result",
          "data": {
            "text/plain": [
              "False"
            ]
          },
          "metadata": {},
          "execution_count": 62
        }
      ]
    },
    {
      "cell_type": "code",
      "source": [
        "name = 'alicapri' \n",
        "name.isalpha()"
      ],
      "metadata": {
        "colab": {
          "base_uri": "https://localhost:8080/"
        },
        "id": "KUmc0cvq-0t6",
        "outputId": "73ad479c-58af-4ac7-d829-2c64511fb764"
      },
      "execution_count": 63,
      "outputs": [
        {
          "output_type": "execute_result",
          "data": {
            "text/plain": [
              "True"
            ]
          },
          "metadata": {},
          "execution_count": 63
        }
      ]
    },
    {
      "cell_type": "code",
      "source": [
        "name = 'اُردُو' # it is means it is this language word is not allowed\n",
        "name.isascii()"
      ],
      "metadata": {
        "colab": {
          "base_uri": "https://localhost:8080/"
        },
        "id": "OccKhl6e_I0x",
        "outputId": "58ad2890-39c4-41a8-97f9-1dee26e91333"
      },
      "execution_count": 64,
      "outputs": [
        {
          "output_type": "execute_result",
          "data": {
            "text/plain": [
              "False"
            ]
          },
          "metadata": {},
          "execution_count": 64
        }
      ]
    },
    {
      "cell_type": "code",
      "source": [
        "name = 'nananna+' # it is means it is this language word is not allowed\n",
        "name.isascii()"
      ],
      "metadata": {
        "colab": {
          "base_uri": "https://localhost:8080/"
        },
        "id": "Y2rXO1lnBnjh",
        "outputId": "31385163-898b-4a8a-c895-47e96e34590a"
      },
      "execution_count": 71,
      "outputs": [
        {
          "output_type": "execute_result",
          "data": {
            "text/plain": [
              "True"
            ]
          },
          "metadata": {},
          "execution_count": 71
        }
      ]
    },
    {
      "cell_type": "code",
      "source": [
        "name = '25' # decimal & digit difference\n",
        "name.isdecimal()"
      ],
      "metadata": {
        "colab": {
          "base_uri": "https://localhost:8080/"
        },
        "id": "REiJgLJT_rt9",
        "outputId": "a731843b-faeb-4acb-b3df-84f48f17c6eb"
      },
      "execution_count": 65,
      "outputs": [
        {
          "output_type": "execute_result",
          "data": {
            "text/plain": [
              "True"
            ]
          },
          "metadata": {},
          "execution_count": 65
        }
      ]
    },
    {
      "cell_type": "code",
      "source": [
        "name = '       ali' # it has removed spacing \n",
        "name.strip()"
      ],
      "metadata": {
        "colab": {
          "base_uri": "https://localhost:8080/",
          "height": 35
        },
        "id": "AYiDEOB__50S",
        "outputId": "2b371d27-8888-4068-95a0-75a4f3c7a849"
      },
      "execution_count": 67,
      "outputs": [
        {
          "output_type": "execute_result",
          "data": {
            "text/plain": [
              "'ali'"
            ],
            "application/vnd.google.colaboratory.intrinsic+json": {
              "type": "string"
            }
          },
          "metadata": {},
          "execution_count": 67
        }
      ]
    },
    {
      "cell_type": "code",
      "source": [
        "dir(name)"
      ],
      "metadata": {
        "colab": {
          "base_uri": "https://localhost:8080/"
        },
        "id": "SwK6rIpsAcBn",
        "outputId": "b521112a-d62a-49f8-f272-1b6c1ec7f826"
      },
      "execution_count": 68,
      "outputs": [
        {
          "output_type": "execute_result",
          "data": {
            "text/plain": [
              "['__add__',\n",
              " '__class__',\n",
              " '__contains__',\n",
              " '__delattr__',\n",
              " '__dir__',\n",
              " '__doc__',\n",
              " '__eq__',\n",
              " '__format__',\n",
              " '__ge__',\n",
              " '__getattribute__',\n",
              " '__getitem__',\n",
              " '__getnewargs__',\n",
              " '__gt__',\n",
              " '__hash__',\n",
              " '__init__',\n",
              " '__init_subclass__',\n",
              " '__iter__',\n",
              " '__le__',\n",
              " '__len__',\n",
              " '__lt__',\n",
              " '__mod__',\n",
              " '__mul__',\n",
              " '__ne__',\n",
              " '__new__',\n",
              " '__reduce__',\n",
              " '__reduce_ex__',\n",
              " '__repr__',\n",
              " '__rmod__',\n",
              " '__rmul__',\n",
              " '__setattr__',\n",
              " '__sizeof__',\n",
              " '__str__',\n",
              " '__subclasshook__',\n",
              " 'capitalize',\n",
              " 'casefold',\n",
              " 'center',\n",
              " 'count',\n",
              " 'encode',\n",
              " 'endswith',\n",
              " 'expandtabs',\n",
              " 'find',\n",
              " 'format',\n",
              " 'format_map',\n",
              " 'index',\n",
              " 'isalnum',\n",
              " 'isalpha',\n",
              " 'isascii',\n",
              " 'isdecimal',\n",
              " 'isdigit',\n",
              " 'isidentifier',\n",
              " 'islower',\n",
              " 'isnumeric',\n",
              " 'isprintable',\n",
              " 'isspace',\n",
              " 'istitle',\n",
              " 'isupper',\n",
              " 'join',\n",
              " 'ljust',\n",
              " 'lower',\n",
              " 'lstrip',\n",
              " 'maketrans',\n",
              " 'partition',\n",
              " 'replace',\n",
              " 'rfind',\n",
              " 'rindex',\n",
              " 'rjust',\n",
              " 'rpartition',\n",
              " 'rsplit',\n",
              " 'rstrip',\n",
              " 'split',\n",
              " 'splitlines',\n",
              " 'startswith',\n",
              " 'strip',\n",
              " 'swapcase',\n",
              " 'title',\n",
              " 'translate',\n",
              " 'upper',\n",
              " 'zfill']"
            ]
          },
          "metadata": {},
          "execution_count": 68
        }
      ]
    },
    {
      "cell_type": "code",
      "source": [
        ""
      ],
      "metadata": {
        "id": "yJwVzv_ZBZlu"
      },
      "execution_count": null,
      "outputs": []
    }
  ]
}